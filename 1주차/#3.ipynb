{
 "cells": [
  {
   "cell_type": "code",
   "execution_count": 8,
   "metadata": {},
   "outputs": [],
   "source": [
    "#Question 3 : error_zip"
   ]
  },
  {
   "cell_type": "markdown",
   "metadata": {},
   "source": [
    "### Example of syntaxError"
   ]
  },
  {
   "cell_type": "code",
   "execution_count": 118,
   "metadata": {},
   "outputs": [
    {
     "ename": "SyntaxError",
     "evalue": "expected ':' (471090490.py, line 7)",
     "output_type": "error",
     "traceback": [
      "\u001b[0;36m  Input \u001b[0;32mIn [118]\u001b[0;36m\u001b[0m\n\u001b[0;31m    for i in range(0,len(a))\u001b[0m\n\u001b[0m                            ^\u001b[0m\n\u001b[0;31mSyntaxError\u001b[0m\u001b[0;31m:\u001b[0m expected ':'\n"
     ]
    }
   ],
   "source": [
    "#<Example of syntaxError>\n",
    "#문법적으로 오류가 발생했을 때\n",
    "#1)\n",
    "\n",
    "a = [1,2,3,4,5]\n",
    "\n",
    "for i in range(0,len(a))\n",
    "    print(i)\n",
    "    "
   ]
  },
  {
   "cell_type": "code",
   "execution_count": 119,
   "metadata": {},
   "outputs": [
    {
     "name": "stdout",
     "output_type": "stream",
     "text": [
      "0\n",
      "1\n",
      "2\n",
      "3\n",
      "4\n"
     ]
    }
   ],
   "source": [
    "#Debugging\n",
    "#1)\n",
    "# 세미클론 : 붙여줘야함\n",
    "a = [1,2,3,4,5]\n",
    "\n",
    "for i in range(0,len(a)):\n",
    "    print(i)"
   ]
  },
  {
   "cell_type": "code",
   "execution_count": 137,
   "metadata": {},
   "outputs": [
    {
     "ename": "SyntaxError",
     "evalue": "incomplete input (369000888.py, line 3)",
     "output_type": "error",
     "traceback": [
      "\u001b[0;36m  Input \u001b[0;32mIn [137]\u001b[0;36m\u001b[0m\n\u001b[0;31m    b = [1,2,3\u001b[0m\n\u001b[0m              ^\u001b[0m\n\u001b[0;31mSyntaxError\u001b[0m\u001b[0;31m:\u001b[0m incomplete input\n"
     ]
    }
   ],
   "source": [
    "#2)\n",
    "a = [1,2,3,4,5]\n",
    "b = [1,2,3\n"
   ]
  },
  {
   "cell_type": "code",
   "execution_count": 141,
   "metadata": {},
   "outputs": [],
   "source": [
    "#Debugging\n",
    "#2)\n",
    "# ] 괄호\n",
    "a = [1,2,3,4,5]\n",
    "b = [1,2,3,]"
   ]
  },
  {
   "cell_type": "markdown",
   "metadata": {},
   "source": [
    "### Example of ValueError"
   ]
  },
  {
   "cell_type": "code",
   "execution_count": 151,
   "metadata": {},
   "outputs": [
    {
     "ename": "ValueError",
     "evalue": "5 is not in list",
     "output_type": "error",
     "traceback": [
      "\u001b[0;31m---------------------------------------------------------------------------\u001b[0m",
      "\u001b[0;31mValueError\u001b[0m                                Traceback (most recent call last)",
      "\u001b[1;32m/Users/hongsumin/Documents/code/PY4E/error_zip.ipynb 셀 8\u001b[0m in \u001b[0;36m<cell line: 6>\u001b[0;34m()\u001b[0m\n\u001b[1;32m      <a href='vscode-notebook-cell:/Users/hongsumin/Documents/code/PY4E/error_zip.ipynb#ch0000002?line=0'>1</a>\u001b[0m \u001b[39m#Example of ValueError\u001b[39;00m\n\u001b[1;32m      <a href='vscode-notebook-cell:/Users/hongsumin/Documents/code/PY4E/error_zip.ipynb#ch0000002?line=1'>2</a>\u001b[0m \u001b[39m#부적절한 값을 가진 인자를 받았을 때\u001b[39;00m\n\u001b[1;32m      <a href='vscode-notebook-cell:/Users/hongsumin/Documents/code/PY4E/error_zip.ipynb#ch0000002?line=2'>3</a>\u001b[0m \u001b[39m#1)\u001b[39;00m\n\u001b[1;32m      <a href='vscode-notebook-cell:/Users/hongsumin/Documents/code/PY4E/error_zip.ipynb#ch0000002?line=4'>5</a>\u001b[0m ex \u001b[39m=\u001b[39m [\u001b[39m1\u001b[39m,\u001b[39m2\u001b[39m,\u001b[39m3\u001b[39m,\u001b[39m4\u001b[39m]\n\u001b[0;32m----> <a href='vscode-notebook-cell:/Users/hongsumin/Documents/code/PY4E/error_zip.ipynb#ch0000002?line=5'>6</a>\u001b[0m \u001b[39mprint\u001b[39m(ex\u001b[39m.\u001b[39;49mindex(\u001b[39m5\u001b[39;49m))\n",
      "\u001b[0;31mValueError\u001b[0m: 5 is not in list"
     ]
    }
   ],
   "source": [
    "#Example of ValueError\n",
    "#부적절한 값을 가진 인자를 받았을 때\n",
    "#1)\n",
    "ex = [1,2,3,4]\n",
    "print(ex.index(5))"
   ]
  },
  {
   "cell_type": "code",
   "execution_count": 152,
   "metadata": {},
   "outputs": [
    {
     "name": "stdout",
     "output_type": "stream",
     "text": [
      "2\n"
     ]
    }
   ],
   "source": [
    "#Debugging\n",
    "#1)\n",
    "#ex 리스트 안에는 5라는 값이 없다.\n",
    "ex = [1,2,3,4]\n",
    "print(ex.index(3))"
   ]
  },
  {
   "cell_type": "code",
   "execution_count": 155,
   "metadata": {},
   "outputs": [
    {
     "ename": "ValueError",
     "evalue": "could not convert string to float: '숫자'",
     "output_type": "error",
     "traceback": [
      "\u001b[0;31m---------------------------------------------------------------------------\u001b[0m",
      "\u001b[0;31mValueError\u001b[0m                                Traceback (most recent call last)",
      "\u001b[1;32m/Users/hongsumin/Documents/code/PY4E/error_zip.ipynb 셀 10\u001b[0m in \u001b[0;36m<cell line: 2>\u001b[0;34m()\u001b[0m\n\u001b[1;32m      <a href='vscode-notebook-cell:/Users/hongsumin/Documents/code/PY4E/error_zip.ipynb#ch0000024?line=0'>1</a>\u001b[0m \u001b[39m#2)\u001b[39;00m\n\u001b[0;32m----> <a href='vscode-notebook-cell:/Users/hongsumin/Documents/code/PY4E/error_zip.ipynb#ch0000024?line=1'>2</a>\u001b[0m \u001b[39mprint\u001b[39m(\u001b[39mfloat\u001b[39;49m(\u001b[39m\"\u001b[39;49m\u001b[39m숫자\u001b[39;49m\u001b[39m\"\u001b[39;49m))\n",
      "\u001b[0;31mValueError\u001b[0m: could not convert string to float: '숫자'"
     ]
    }
   ],
   "source": [
    "#2)\n",
    "print(float(\"숫자\"))"
   ]
  },
  {
   "cell_type": "code",
   "execution_count": 157,
   "metadata": {},
   "outputs": [
    {
     "name": "stdout",
     "output_type": "stream",
     "text": [
      "2.1\n"
     ]
    }
   ],
   "source": [
    "#Debugging\n",
    "#2)\n",
    "#float는 실수형임\n",
    "print(float(2.1))"
   ]
  },
  {
   "cell_type": "markdown",
   "metadata": {},
   "source": [
    "### Example of TypeError"
   ]
  },
  {
   "cell_type": "code",
   "execution_count": 121,
   "metadata": {},
   "outputs": [
    {
     "ename": "TypeError",
     "evalue": "unsupported operand type(s) for +: 'int' and 'str'",
     "output_type": "error",
     "traceback": [
      "\u001b[0;31m---------------------------------------------------------------------------\u001b[0m",
      "\u001b[0;31mTypeError\u001b[0m                                 Traceback (most recent call last)",
      "\u001b[1;32m/Users/hongsumin/Documents/code/PY4E/error_zip.ipynb 셀 13\u001b[0m in \u001b[0;36m<cell line: 7>\u001b[0;34m()\u001b[0m\n\u001b[1;32m      <a href='vscode-notebook-cell:/Users/hongsumin/Documents/code/PY4E/error_zip.ipynb#ch0000003?line=3'>4</a>\u001b[0m a \u001b[39m=\u001b[39m \u001b[39m1\u001b[39m\n\u001b[1;32m      <a href='vscode-notebook-cell:/Users/hongsumin/Documents/code/PY4E/error_zip.ipynb#ch0000003?line=4'>5</a>\u001b[0m b \u001b[39m=\u001b[39m \u001b[39m\"\u001b[39m\u001b[39m2\u001b[39m\u001b[39m\"\u001b[39m\n\u001b[0;32m----> <a href='vscode-notebook-cell:/Users/hongsumin/Documents/code/PY4E/error_zip.ipynb#ch0000003?line=6'>7</a>\u001b[0m a\u001b[39m+\u001b[39;49mb\n",
      "\u001b[0;31mTypeError\u001b[0m: unsupported operand type(s) for +: 'int' and 'str'"
     ]
    }
   ],
   "source": [
    "#Example of TypeError\n",
    "#서로 다른 타입으로 연산할 때\n",
    "#1)\n",
    "a = 1\n",
    "b = \"2\"\n",
    "\n",
    "a+b"
   ]
  },
  {
   "cell_type": "code",
   "execution_count": 122,
   "metadata": {},
   "outputs": [
    {
     "data": {
      "text/plain": [
       "3"
      ]
     },
     "execution_count": 122,
     "metadata": {},
     "output_type": "execute_result"
    }
   ],
   "source": [
    "#Debugging\n",
    "#1)\n",
    "#b의 type를 str -> num으로 바꿔주기\n",
    "a = 1\n",
    "b = 2\n",
    "a+b"
   ]
  },
  {
   "cell_type": "code",
   "execution_count": 159,
   "metadata": {},
   "outputs": [
    {
     "ename": "TypeError",
     "evalue": "list indices must be integers or slices, not str",
     "output_type": "error",
     "traceback": [
      "\u001b[0;31m---------------------------------------------------------------------------\u001b[0m",
      "\u001b[0;31mTypeError\u001b[0m                                 Traceback (most recent call last)",
      "\u001b[1;32m/Users/hongsumin/Documents/code/PY4E/error_zip.ipynb 셀 15\u001b[0m in \u001b[0;36m<cell line: 4>\u001b[0;34m()\u001b[0m\n\u001b[1;32m      <a href='vscode-notebook-cell:/Users/hongsumin/Documents/code/PY4E/error_zip.ipynb#ch0000026?line=0'>1</a>\u001b[0m \u001b[39m#2)\u001b[39;00m\n\u001b[1;32m      <a href='vscode-notebook-cell:/Users/hongsumin/Documents/code/PY4E/error_zip.ipynb#ch0000026?line=1'>2</a>\u001b[0m a \u001b[39m=\u001b[39m [\u001b[39m1\u001b[39m,\u001b[39m2\u001b[39m,\u001b[39m3\u001b[39m,\u001b[39m4\u001b[39m,\u001b[39m5\u001b[39m]\n\u001b[0;32m----> <a href='vscode-notebook-cell:/Users/hongsumin/Documents/code/PY4E/error_zip.ipynb#ch0000026?line=3'>4</a>\u001b[0m a[\u001b[39m'\u001b[39;49m\u001b[39m3\u001b[39;49m\u001b[39m'\u001b[39;49m]\n",
      "\u001b[0;31mTypeError\u001b[0m: list indices must be integers or slices, not str"
     ]
    }
   ],
   "source": [
    "#2)\n",
    "a = [1,2,3,4,5]\n",
    "\n",
    "a['3']"
   ]
  },
  {
   "cell_type": "code",
   "execution_count": 160,
   "metadata": {},
   "outputs": [
    {
     "data": {
      "text/plain": [
       "4"
      ]
     },
     "execution_count": 160,
     "metadata": {},
     "output_type": "execute_result"
    }
   ],
   "source": [
    "#Debugging\n",
    "#2)\n",
    "#원소 안에 int로 구성되어 있기 때문에 '' 빼고 입력\n",
    "a = [1,2,3,4,5]\n",
    "\n",
    "a[3]"
   ]
  },
  {
   "cell_type": "markdown",
   "metadata": {},
   "source": [
    "### Example of NameError"
   ]
  },
  {
   "cell_type": "code",
   "execution_count": 113,
   "metadata": {},
   "outputs": [
    {
     "ename": "NameError",
     "evalue": "name 'organizations' is not defined",
     "output_type": "error",
     "traceback": [
      "\u001b[0;31m---------------------------------------------------------------------------\u001b[0m",
      "\u001b[0;31mNameError\u001b[0m                                 Traceback (most recent call last)",
      "\u001b[1;32m/Users/hongsumin/Documents/code/PY4E/error_zip.ipynb 셀 18\u001b[0m in \u001b[0;36m<cell line: 10>\u001b[0;34m()\u001b[0m\n\u001b[1;32m      <a href='vscode-notebook-cell:/Users/hongsumin/Documents/code/PY4E/error_zip.ipynb#ch0000004?line=7'>8</a>\u001b[0m \u001b[39mfor\u001b[39;00m i \u001b[39min\u001b[39;00m \u001b[39mrange\u001b[39m(\u001b[39m0\u001b[39m,\u001b[39mlen\u001b[39m(student)) :\n\u001b[1;32m      <a href='vscode-notebook-cell:/Users/hongsumin/Documents/code/PY4E/error_zip.ipynb#ch0000004?line=8'>9</a>\u001b[0m     organization[student[i]] \u001b[39m=\u001b[39m score[i]\n\u001b[0;32m---> <a href='vscode-notebook-cell:/Users/hongsumin/Documents/code/PY4E/error_zip.ipynb#ch0000004?line=9'>10</a>\u001b[0m \u001b[39mprint\u001b[39m(organizations)\n\u001b[1;32m     <a href='vscode-notebook-cell:/Users/hongsumin/Documents/code/PY4E/error_zip.ipynb#ch0000004?line=11'>12</a>\u001b[0m organization[\u001b[39m'\u001b[39m\u001b[39mC\u001b[39m\u001b[39m'\u001b[39m]\n",
      "\u001b[0;31mNameError\u001b[0m: name 'organizations' is not defined"
     ]
    }
   ],
   "source": [
    "#Example of NameError\n",
    "#변수 이름을 찾을 수 없는 경우\n",
    "student = [\"A\",\"B\",\"C\"]\n",
    "score = [\"100\",\"80\",\"70\"]\n",
    "\n",
    "organization = {}\n",
    "\n",
    "for i in range(0,len(student)) :\n",
    "    organization[student[i]] = score[i]\n",
    "print(organizations)\n",
    "\n",
    "organization['C']"
   ]
  },
  {
   "cell_type": "code",
   "execution_count": 115,
   "metadata": {},
   "outputs": [
    {
     "name": "stdout",
     "output_type": "stream",
     "text": [
      "{'A': '100', 'B': '80', 'C': '70'}\n"
     ]
    },
    {
     "data": {
      "text/plain": [
       "'70'"
      ]
     },
     "execution_count": 115,
     "metadata": {},
     "output_type": "execute_result"
    }
   ],
   "source": [
    "#Debugging\n",
    "# organizations를 수정해야함\n",
    "student = [\"A\",\"B\",\"C\"]\n",
    "score = [\"100\",\"80\",\"70\"]\n",
    "\n",
    "organization = {}\n",
    "\n",
    "for i in range(0,len(student)) :\n",
    "    organization[student[i]] = score[i]\n",
    "print(organization)\n",
    "\n",
    "organization['C']"
   ]
  },
  {
   "cell_type": "markdown",
   "metadata": {},
   "source": [
    "### Example of IndexError"
   ]
  },
  {
   "cell_type": "code",
   "execution_count": 56,
   "metadata": {},
   "outputs": [
    {
     "ename": "IndexError",
     "evalue": "list index out of range",
     "output_type": "error",
     "traceback": [
      "\u001b[0;31m---------------------------------------------------------------------------\u001b[0m",
      "\u001b[0;31mIndexError\u001b[0m                                Traceback (most recent call last)",
      "\u001b[1;32m/Users/hongsumin/Documents/code/PY4E/error_zip.ipynb 셀 15\u001b[0m in \u001b[0;36m<cell line: 5>\u001b[0;34m()\u001b[0m\n\u001b[1;32m      <a href='vscode-notebook-cell:/Users/hongsumin/Documents/code/PY4E/error_zip.ipynb#ch0000005?line=3'>4</a>\u001b[0m result \u001b[39m=\u001b[39m []\n\u001b[1;32m      <a href='vscode-notebook-cell:/Users/hongsumin/Documents/code/PY4E/error_zip.ipynb#ch0000005?line=4'>5</a>\u001b[0m \u001b[39mfor\u001b[39;00m num \u001b[39min\u001b[39;00m a :\n\u001b[0;32m----> <a href='vscode-notebook-cell:/Users/hongsumin/Documents/code/PY4E/error_zip.ipynb#ch0000005?line=5'>6</a>\u001b[0m     result\u001b[39m.\u001b[39mappend(a[num])\n\u001b[1;32m      <a href='vscode-notebook-cell:/Users/hongsumin/Documents/code/PY4E/error_zip.ipynb#ch0000005?line=7'>8</a>\u001b[0m \u001b[39mprint\u001b[39m(result)\n",
      "\u001b[0;31mIndexError\u001b[0m: list index out of range"
     ]
    }
   ],
   "source": [
    "#Example of IndexError\n",
    "#존재하지 않는 인덱스값에 접근하려고 할 때\n",
    "a = [1,2,3,4,5]\n",
    "result = []\n",
    "for num in a :\n",
    "    result.append(a[num])\n",
    "\n",
    "print(result)\n"
   ]
  },
  {
   "cell_type": "code",
   "execution_count": 55,
   "metadata": {},
   "outputs": [
    {
     "name": "stdout",
     "output_type": "stream",
     "text": [
      "[1, 2, 3, 4, 5]\n"
     ]
    }
   ],
   "source": [
    "#Debugging\n",
    "#num은 1부터 들어가기 때문에 -1을 해서 0부터 시작하게 만들어야함\n",
    "a = [1,2,3,4,5]\n",
    "result = []\n",
    "for num in a :\n",
    "    result.append(a[num-1])\n",
    "\n",
    "print(result)"
   ]
  },
  {
   "cell_type": "markdown",
   "metadata": {},
   "source": [
    "### Example of ZeroDivisionError"
   ]
  },
  {
   "cell_type": "code",
   "execution_count": 65,
   "metadata": {},
   "outputs": [
    {
     "ename": "ZeroDivisionError",
     "evalue": "division by zero",
     "output_type": "error",
     "traceback": [
      "\u001b[0;31m---------------------------------------------------------------------------\u001b[0m",
      "\u001b[0;31mZeroDivisionError\u001b[0m                         Traceback (most recent call last)",
      "\u001b[1;32m/Users/hongsumin/Documents/code/PY4E/error_zip.ipynb 셀 24\u001b[0m in \u001b[0;36m<cell line: 3>\u001b[0;34m()\u001b[0m\n\u001b[1;32m      <a href='vscode-notebook-cell:/Users/hongsumin/Documents/code/PY4E/error_zip.ipynb#ch0000006?line=0'>1</a>\u001b[0m \u001b[39m#Example of ZeroDivisionError\u001b[39;00m\n\u001b[1;32m      <a href='vscode-notebook-cell:/Users/hongsumin/Documents/code/PY4E/error_zip.ipynb#ch0000006?line=1'>2</a>\u001b[0m \u001b[39m#숫자를 0으로 나누려는 경우\u001b[39;00m\n\u001b[0;32m----> <a href='vscode-notebook-cell:/Users/hongsumin/Documents/code/PY4E/error_zip.ipynb#ch0000006?line=2'>3</a>\u001b[0m \u001b[39m1\u001b[39;49m\u001b[39m/\u001b[39;49m\u001b[39m0\u001b[39;49m\n",
      "\u001b[0;31mZeroDivisionError\u001b[0m: division by zero"
     ]
    }
   ],
   "source": [
    "#Example of ZeroDivisionError\n",
    "#숫자를 0으로 나누려는 경우\n",
    "1/0"
   ]
  },
  {
   "cell_type": "code",
   "execution_count": 66,
   "metadata": {},
   "outputs": [
    {
     "data": {
      "text/plain": [
       "1.0"
      ]
     },
     "execution_count": 66,
     "metadata": {},
     "output_type": "execute_result"
    }
   ],
   "source": [
    "#Debugging\n",
    "1/1"
   ]
  }
 ],
 "metadata": {
  "kernelspec": {
   "display_name": "Python 3.10.5 64-bit",
   "language": "python",
   "name": "python3"
  },
  "language_info": {
   "codemirror_mode": {
    "name": "ipython",
    "version": 3
   },
   "file_extension": ".py",
   "mimetype": "text/x-python",
   "name": "python",
   "nbconvert_exporter": "python",
   "pygments_lexer": "ipython3",
   "version": "3.10.5"
  },
  "orig_nbformat": 4,
  "vscode": {
   "interpreter": {
    "hash": "aee8b7b246df8f9039afb4144a1f6fd8d2ca17a180786b69acc140d282b71a49"
   }
  }
 },
 "nbformat": 4,
 "nbformat_minor": 2
}
