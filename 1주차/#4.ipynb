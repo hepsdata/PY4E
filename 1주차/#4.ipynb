{
 "cells": [
  {
   "cell_type": "code",
   "execution_count": null,
   "metadata": {},
   "outputs": [],
   "source": [
    "# 한국 나이를 미국 나이로 변환하는 함수 코딩 작성하기 (최종)"
   ]
  },
  {
   "cell_type": "code",
   "execution_count": 14,
   "metadata": {},
   "outputs": [
    {
     "name": "stdout",
     "output_type": "stream",
     "text": [
      "잘못된 형식의 생일 입력입니다. 다시 입력해주세요. (ex 20220719)\n",
      "잘못된 형식의 생일 입력입니다. 다시 입력해주세요. (ex 20220719)\n",
      "입력값은 총 8자리 숫자로 이루어져있습니다. 다시 한번 입력해주세요.\n",
      "잘못된 생년월일 입력입니다. 생일은 현재 시각을 넘을 수 없습니다.\n",
      "귀하의 미국나이는 20살입니다.\n"
     ]
    }
   ],
   "source": [
    "#datetime을 불러오는 패키지\n",
    "from datetime import datetime\n",
    "\n",
    "while True:\n",
    "    #answer : 입력값\n",
    "    answer = (input(\"귀하의 생일을 입력해주세요(ex 20220719) : \"))\n",
    "    #data로 받아옴\n",
    "    data = answer\n",
    "\n",
    "    #만약 입력값 길이가 8이 아니면, 다시 입력함을 안내하는 문구\n",
    "    #만약 정확히 입력했을 시, 년/월/일로 구분지어 저장\n",
    "    try:\n",
    "        int(data) #str.isdigit(data)==True\n",
    "        if len(data) != 8 :\n",
    "            print(\"입력값은 총 8자리 숫자로 이루어져있습니다. 다시 한번 입력해주세요.\")\n",
    "\n",
    "        else : \n",
    "            user_year = int(data[:4])\n",
    "            user_month_day = int(data[4:])\n",
    "\n",
    "            #오늘 날짜 불러오기 : 년/월/일\n",
    "            today_year = datetime.today().year\n",
    "\n",
    "            # 719로 생성하기 위해 str과 int 같이 사용함\n",
    "            today_month_day = int(str(datetime.today().month) + str(datetime.today().day))\n",
    "\n",
    "            #생일이 지났는지 확인하는 if문\n",
    "            if  user_month_day>= today_month_day :\n",
    "                birth = 0\n",
    "            else :\n",
    "                birth = -1\n",
    "            user_birth = birth\n",
    "\n",
    "            #사용자 나이 계산하기\n",
    "            user_age = today_year - user_year\n",
    "\n",
    "            #최종적으로 미국나이 계산하기\n",
    "            American_age = user_age - 1 + birth\n",
    "            if American_age >= 0 :\n",
    "                print(\"귀하의 미국나이는 \" + str(American_age) + \"살입니다.\")\n",
    "                break\n",
    "            else :\n",
    "                print(\"잘못된 생년월일 입력입니다. 생일은 현재 시각을 넘을 수 없습니다.\")\n",
    "                continue\n",
    "\n",
    "    except: #str.isdigit(data)==False\n",
    "        print(\"잘못된 형식의 생일 입력입니다. 다시 입력해주세요. (ex 20220719)\")\n",
    "        continue"
   ]
  }
 ],
 "metadata": {
  "kernelspec": {
   "display_name": "Python 3.10.5 64-bit",
   "language": "python",
   "name": "python3"
  },
  "language_info": {
   "name": "python",
   "version": "3.10.5"
  },
  "orig_nbformat": 4,
  "vscode": {
   "interpreter": {
    "hash": "26de051ba29f2982a8de78e945f0abaf191376122a1563185a90213a26c5da77"
   }
  }
 },
 "nbformat": 4,
 "nbformat_minor": 2
}
